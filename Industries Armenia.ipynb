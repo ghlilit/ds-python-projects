{
 "cells": [
  {
   "cell_type": "markdown",
   "metadata": {},
   "source": [
    "# Rising inequality but everyone is better of: Armenia edition"
   ]
  },
  {
   "cell_type": "markdown",
   "metadata": {},
   "source": [
    "#### This is my first project with Python. My goal is to explore the data, and answer the question if the wage gap among different industries is increasing in Armenia.\n",
    "\n",
    "\n",
    "The data is acquired from the Statistical Committee of Armenia. The industry sectors are previously translated English and AMD is converted to USD as of 8/3/2018 when USD=481AMD, done using Excel. The table shows the mean salaries for different industries of Armenia from 2009 to 2016. "
   ]
  },
  {
   "cell_type": "markdown",
   "metadata": {},
   "source": [
    "## Preparing the Data \n"
   ]
  },
  {
   "cell_type": "code",
   "execution_count": 1,
   "metadata": {},
   "outputs": [],
   "source": [
    "import pandas as pd"
   ]
  },
  {
   "cell_type": "code",
   "execution_count": 2,
   "metadata": {},
   "outputs": [
    {
     "name": "stdout",
     "output_type": "stream",
     "text": [
      "Industries Armenia.ipynb\n",
      "Introduction to Pandas.ipynb\n",
      "PS-eu-19.csv\n",
      "PS-eu-9.csv\n",
      "fig1.png\n",
      "movielens\n",
      "notebook.tex\n",
      "output_13_1.png\n",
      "output_15_1.png\n"
     ]
    }
   ],
   "source": [
    "!ls "
   ]
  },
  {
   "cell_type": "code",
   "execution_count": 3,
   "metadata": {},
   "outputs": [
    {
     "name": "stdout",
     "output_type": "stream",
     "text": [
      "\"\t2009\t2010\t2011\t2012\t2012*\t2013**\t2014\t2015\t2016\t\t\t\t\t\t\t\t\t\t\t\t\"\n",
      "\"Agriculture\t144.1977275\t146.3482919\t145.3735906\t173.4470623\t209.2061576\t190.8693299\t207.169654\t234.6043853\t238.6815402\t\t\t\t\t\t\t\t\t\t\t\t\"\n",
      "\"Mining\t364.9592803\t449.7790331\t492.8919388\t535.3121844\t596.610528\t657.496179\t686.3825931\t748.6017184\t722.5771932\t\t\t\t\t\t\t\t\t\t\t\t\"\n",
      "\"Manufacturing\t191.8875817\t208.4243227\t210.589404\t230.1477191\t275.2390611\t282.2672797\t296.4149656\t322.5991759\t326.1184698\t\t\t\t\t\t\t\t\t\t\t\t\"\n",
      "\"Energy\t291.095585\t310.6165712\t315.622803\t319.2976344\t370.0857945\t401.0937393\t467.1038306\t468.4538956\t576.8572726\t\t\t\t\t\t\t\t\t\t\t\t\"\n",
      "\"Water\t189.3181031\t207.7212935\t232.6591304\t230.01292\t275.0793759\t289.6127947\t317.4353327\t340.6995867\t386.1414063\t\t\t\t\t\t\t\t\t\t\t\t\"\n",
      "\"Construction\t253.8288134\t284.1897225\t285.1167257\t280.3427631\t329.2354401\t324.9737142\t371.8609951\t422.1016634\t371.5540679\t\t\t\t\t\t\t\t\t\t\t\t\"\n",
      "\"Trade\t143.5029936\t153.3889535\t163.3226116\t169.7784525\t202.7129878\t218.5238874\t241.6554161\t265.5708535\t271.3568464\t\t\t\t\t\t\t\t\t\t\t\t\"\n",
      "\"Transportation\t181.7216543\t197.1862239\t214.3368194\t217.6736161\t260.523145\t269.6666729\t284.6625563\t293.7355739\t301.0935319\t\t\t\t\t\t\t\t\t\t\t\t\"\n",
      "\"Hospitality\t127.0906825\t136.0164579\t138.6274132\t154.9007775\t187.7896885\t183.9821319\t191.5910236\t210.985506\t226.4065251\t\t\t\t\t\t\t\t\t\t\t\t\"\n"
     ]
    }
   ],
   "source": [
    "!head ./PS-eu-19.csv\n",
    "#Some exploration of the Data"
   ]
  },
  {
   "cell_type": "code",
   "execution_count": 10,
   "metadata": {
    "scrolled": true
   },
   "outputs": [],
   "source": [
    "industries = pd.read_csv('./PS-eu-19.csv', sep='\\t')\n",
    "#Importing the csv file as a DataFrame"
   ]
  },
  {
   "cell_type": "code",
   "execution_count": 21,
   "metadata": {},
   "outputs": [
    {
     "data": {
      "text/html": [
       "<div>\n",
       "<style scoped>\n",
       "    .dataframe tbody tr th:only-of-type {\n",
       "        vertical-align: middle;\n",
       "    }\n",
       "\n",
       "    .dataframe tbody tr th {\n",
       "        vertical-align: top;\n",
       "    }\n",
       "\n",
       "    .dataframe thead th {\n",
       "        text-align: right;\n",
       "    }\n",
       "</style>\n",
       "<table border=\"1\" class=\"dataframe\">\n",
       "  <thead>\n",
       "    <tr style=\"text-align: right;\">\n",
       "      <th></th>\n",
       "      <th>2009</th>\n",
       "      <th>2010</th>\n",
       "      <th>2011</th>\n",
       "      <th>2012</th>\n",
       "      <th>2014</th>\n",
       "      <th>2015</th>\n",
       "      <th>2016</th>\n",
       "    </tr>\n",
       "    <tr>\n",
       "      <th>Unnamed: 0</th>\n",
       "      <th></th>\n",
       "      <th></th>\n",
       "      <th></th>\n",
       "      <th></th>\n",
       "      <th></th>\n",
       "      <th></th>\n",
       "      <th></th>\n",
       "    </tr>\n",
       "  </thead>\n",
       "  <tbody>\n",
       "    <tr>\n",
       "      <th>Agriculture</th>\n",
       "      <td>144.197727</td>\n",
       "      <td>146.348292</td>\n",
       "      <td>145.373591</td>\n",
       "      <td>173.447062</td>\n",
       "      <td>207.169654</td>\n",
       "      <td>234.604385</td>\n",
       "      <td>238.681540</td>\n",
       "    </tr>\n",
       "    <tr>\n",
       "      <th>Mining</th>\n",
       "      <td>364.959280</td>\n",
       "      <td>449.779033</td>\n",
       "      <td>492.891939</td>\n",
       "      <td>535.312184</td>\n",
       "      <td>686.382593</td>\n",
       "      <td>748.601718</td>\n",
       "      <td>722.577193</td>\n",
       "    </tr>\n",
       "    <tr>\n",
       "      <th>Manufacturing</th>\n",
       "      <td>191.887582</td>\n",
       "      <td>208.424323</td>\n",
       "      <td>210.589404</td>\n",
       "      <td>230.147719</td>\n",
       "      <td>296.414966</td>\n",
       "      <td>322.599176</td>\n",
       "      <td>326.118470</td>\n",
       "    </tr>\n",
       "    <tr>\n",
       "      <th>Energy</th>\n",
       "      <td>291.095585</td>\n",
       "      <td>310.616571</td>\n",
       "      <td>315.622803</td>\n",
       "      <td>319.297634</td>\n",
       "      <td>467.103831</td>\n",
       "      <td>468.453896</td>\n",
       "      <td>576.857273</td>\n",
       "    </tr>\n",
       "    <tr>\n",
       "      <th>Water</th>\n",
       "      <td>189.318103</td>\n",
       "      <td>207.721294</td>\n",
       "      <td>232.659130</td>\n",
       "      <td>230.012920</td>\n",
       "      <td>317.435333</td>\n",
       "      <td>340.699587</td>\n",
       "      <td>386.141406</td>\n",
       "    </tr>\n",
       "  </tbody>\n",
       "</table>\n",
       "</div>"
      ],
      "text/plain": [
       "                     2009        2010        2011        2012        2014  \\\n",
       "Unnamed: 0                                                                  \n",
       "Agriculture    144.197727  146.348292  145.373591  173.447062  207.169654   \n",
       "Mining         364.959280  449.779033  492.891939  535.312184  686.382593   \n",
       "Manufacturing  191.887582  208.424323  210.589404  230.147719  296.414966   \n",
       "Energy         291.095585  310.616571  315.622803  319.297634  467.103831   \n",
       "Water          189.318103  207.721294  232.659130  230.012920  317.435333   \n",
       "\n",
       "                     2015        2016  \n",
       "Unnamed: 0                             \n",
       "Agriculture    234.604385  238.681540  \n",
       "Mining         748.601718  722.577193  \n",
       "Manufacturing  322.599176  326.118470  \n",
       "Energy         468.453896  576.857273  \n",
       "Water          340.699587  386.141406  "
      ]
     },
     "execution_count": 21,
     "metadata": {},
     "output_type": "execute_result"
    }
   ],
   "source": [
    "industries.head()"
   ]
  },
  {
   "cell_type": "code",
   "execution_count": 12,
   "metadata": {},
   "outputs": [],
   "source": [
    "industries = industries.drop(['Unnamed: 10', 'Unnamed: 11', '2012*', '2013**', 'Unnamed: 12', 'Unnamed: 13', 'Unnamed: 14', 'Unnamed: 15', 'Unnamed: 16', 'Unnamed: 17', 'Unnamed: 18', 'Unnamed: 19', 'Unnamed: 20', 'Unnamed: 21'],   axis=1)\n",
    "#Dropping extra columns"
   ]
  },
  {
   "cell_type": "code",
   "execution_count": 13,
   "metadata": {},
   "outputs": [],
   "source": [
    "industries=industries.set_index('Unnamed: 0')\n",
    "#Setting the indices to be the the names of industry column"
   ]
  },
  {
   "cell_type": "markdown",
   "metadata": {},
   "source": [
    "## Exploring the data"
   ]
  },
  {
   "cell_type": "code",
   "execution_count": 22,
   "metadata": {},
   "outputs": [
    {
     "data": {
      "text/html": [
       "<div>\n",
       "<style scoped>\n",
       "    .dataframe tbody tr th:only-of-type {\n",
       "        vertical-align: middle;\n",
       "    }\n",
       "\n",
       "    .dataframe tbody tr th {\n",
       "        vertical-align: top;\n",
       "    }\n",
       "\n",
       "    .dataframe thead th {\n",
       "        text-align: right;\n",
       "    }\n",
       "</style>\n",
       "<table border=\"1\" class=\"dataframe\">\n",
       "  <thead>\n",
       "    <tr style=\"text-align: right;\">\n",
       "      <th></th>\n",
       "      <th>2009</th>\n",
       "      <th>2010</th>\n",
       "      <th>2011</th>\n",
       "      <th>2012</th>\n",
       "      <th>2014</th>\n",
       "      <th>2015</th>\n",
       "      <th>2016</th>\n",
       "    </tr>\n",
       "  </thead>\n",
       "  <tbody>\n",
       "    <tr>\n",
       "      <th>count</th>\n",
       "      <td>19.000000</td>\n",
       "      <td>19.000000</td>\n",
       "      <td>19.000000</td>\n",
       "      <td>19.000000</td>\n",
       "      <td>19.000000</td>\n",
       "      <td>19.000000</td>\n",
       "      <td>19.000000</td>\n",
       "    </tr>\n",
       "    <tr>\n",
       "      <th>mean</th>\n",
       "      <td>219.583507</td>\n",
       "      <td>234.332386</td>\n",
       "      <td>247.760452</td>\n",
       "      <td>259.515372</td>\n",
       "      <td>348.492613</td>\n",
       "      <td>374.640695</td>\n",
       "      <td>387.923811</td>\n",
       "    </tr>\n",
       "    <tr>\n",
       "      <th>std</th>\n",
       "      <td>114.327766</td>\n",
       "      <td>126.842887</td>\n",
       "      <td>132.172355</td>\n",
       "      <td>140.509484</td>\n",
       "      <td>179.072393</td>\n",
       "      <td>183.394870</td>\n",
       "      <td>187.919691</td>\n",
       "    </tr>\n",
       "    <tr>\n",
       "      <th>min</th>\n",
       "      <td>113.100608</td>\n",
       "      <td>119.332475</td>\n",
       "      <td>129.979531</td>\n",
       "      <td>136.474775</td>\n",
       "      <td>183.303989</td>\n",
       "      <td>210.083389</td>\n",
       "      <td>226.406525</td>\n",
       "    </tr>\n",
       "    <tr>\n",
       "      <th>25%</th>\n",
       "      <td>143.850361</td>\n",
       "      <td>145.537423</td>\n",
       "      <td>155.483524</td>\n",
       "      <td>168.026064</td>\n",
       "      <td>232.399901</td>\n",
       "      <td>253.366349</td>\n",
       "      <td>260.502407</td>\n",
       "    </tr>\n",
       "    <tr>\n",
       "      <th>50%</th>\n",
       "      <td>189.318103</td>\n",
       "      <td>197.186224</td>\n",
       "      <td>210.589404</td>\n",
       "      <td>217.673616</td>\n",
       "      <td>284.662556</td>\n",
       "      <td>293.735574</td>\n",
       "      <td>301.093532</td>\n",
       "    </tr>\n",
       "    <tr>\n",
       "      <th>75%</th>\n",
       "      <td>241.467734</td>\n",
       "      <td>261.223064</td>\n",
       "      <td>268.559246</td>\n",
       "      <td>272.580408</td>\n",
       "      <td>389.138094</td>\n",
       "      <td>436.564572</td>\n",
       "      <td>416.404845</td>\n",
       "    </tr>\n",
       "    <tr>\n",
       "      <th>max</th>\n",
       "      <td>569.968001</td>\n",
       "      <td>572.688869</td>\n",
       "      <td>587.309389</td>\n",
       "      <td>610.747845</td>\n",
       "      <td>823.077194</td>\n",
       "      <td>811.859834</td>\n",
       "      <td>820.238117</td>\n",
       "    </tr>\n",
       "  </tbody>\n",
       "</table>\n",
       "</div>"
      ],
      "text/plain": [
       "             2009        2010        2011        2012        2014        2015  \\\n",
       "count   19.000000   19.000000   19.000000   19.000000   19.000000   19.000000   \n",
       "mean   219.583507  234.332386  247.760452  259.515372  348.492613  374.640695   \n",
       "std    114.327766  126.842887  132.172355  140.509484  179.072393  183.394870   \n",
       "min    113.100608  119.332475  129.979531  136.474775  183.303989  210.083389   \n",
       "25%    143.850361  145.537423  155.483524  168.026064  232.399901  253.366349   \n",
       "50%    189.318103  197.186224  210.589404  217.673616  284.662556  293.735574   \n",
       "75%    241.467734  261.223064  268.559246  272.580408  389.138094  436.564572   \n",
       "max    569.968001  572.688869  587.309389  610.747845  823.077194  811.859834   \n",
       "\n",
       "             2016  \n",
       "count   19.000000  \n",
       "mean   387.923811  \n",
       "std    187.919691  \n",
       "min    226.406525  \n",
       "25%    260.502407  \n",
       "50%    301.093532  \n",
       "75%    416.404845  \n",
       "max    820.238117  "
      ]
     },
     "execution_count": 22,
     "metadata": {},
     "output_type": "execute_result"
    }
   ],
   "source": [
    "industries.describe()"
   ]
  },
  {
   "cell_type": "code",
   "execution_count": 24,
   "metadata": {},
   "outputs": [
    {
     "data": {
      "text/html": [
       "<div>\n",
       "<style scoped>\n",
       "    .dataframe tbody tr th:only-of-type {\n",
       "        vertical-align: middle;\n",
       "    }\n",
       "\n",
       "    .dataframe tbody tr th {\n",
       "        vertical-align: top;\n",
       "    }\n",
       "\n",
       "    .dataframe thead th {\n",
       "        text-align: right;\n",
       "    }\n",
       "</style>\n",
       "<table border=\"1\" class=\"dataframe\">\n",
       "  <thead>\n",
       "    <tr style=\"text-align: right;\">\n",
       "      <th>Unnamed: 0</th>\n",
       "      <th>Agriculture</th>\n",
       "      <th>Mining</th>\n",
       "      <th>Manufacturing</th>\n",
       "      <th>Energy</th>\n",
       "      <th>Water</th>\n",
       "      <th>Construction</th>\n",
       "      <th>Trade</th>\n",
       "      <th>Transportation</th>\n",
       "      <th>Hospitality</th>\n",
       "      <th>Telecommunications</th>\n",
       "      <th>Financial se</th>\n",
       "      <th>Real estate</th>\n",
       "      <th>Technology and Science</th>\n",
       "      <th>Administration</th>\n",
       "      <th>Government, army</th>\n",
       "      <th>Education</th>\n",
       "      <th>Healthcare</th>\n",
       "      <th>Entertainment</th>\n",
       "      <th>Service</th>\n",
       "    </tr>\n",
       "  </thead>\n",
       "  <tbody>\n",
       "    <tr>\n",
       "      <th>count</th>\n",
       "      <td>7.000000</td>\n",
       "      <td>7.000000</td>\n",
       "      <td>7.000000</td>\n",
       "      <td>7.000000</td>\n",
       "      <td>7.000000</td>\n",
       "      <td>7.000000</td>\n",
       "      <td>7.000000</td>\n",
       "      <td>7.000000</td>\n",
       "      <td>7.000000</td>\n",
       "      <td>7.000000</td>\n",
       "      <td>7.000000</td>\n",
       "      <td>7.000000</td>\n",
       "      <td>7.000000</td>\n",
       "      <td>7.000000</td>\n",
       "      <td>7.000000</td>\n",
       "      <td>7.000000</td>\n",
       "      <td>7.000000</td>\n",
       "      <td>7.000000</td>\n",
       "      <td>7.000000</td>\n",
       "    </tr>\n",
       "    <tr>\n",
       "      <th>mean</th>\n",
       "      <td>184.260322</td>\n",
       "      <td>571.500563</td>\n",
       "      <td>255.168806</td>\n",
       "      <td>392.721085</td>\n",
       "      <td>271.998253</td>\n",
       "      <td>324.142107</td>\n",
       "      <td>201.225161</td>\n",
       "      <td>241.487139</td>\n",
       "      <td>169.374055</td>\n",
       "      <td>550.617365</td>\n",
       "      <td>685.127036</td>\n",
       "      <td>202.671511</td>\n",
       "      <td>278.813756</td>\n",
       "      <td>228.324524</td>\n",
       "      <td>326.899120</td>\n",
       "      <td>193.519984</td>\n",
       "      <td>210.264701</td>\n",
       "      <td>169.072164</td>\n",
       "      <td>167.487756</td>\n",
       "    </tr>\n",
       "    <tr>\n",
       "      <th>std</th>\n",
       "      <td>42.214668</td>\n",
       "      <td>148.521152</td>\n",
       "      <td>57.857430</td>\n",
       "      <td>110.738753</td>\n",
       "      <td>75.377860</td>\n",
       "      <td>63.380565</td>\n",
       "      <td>55.885414</td>\n",
       "      <td>49.976070</td>\n",
       "      <td>39.860703</td>\n",
       "      <td>131.348230</td>\n",
       "      <td>125.399996</td>\n",
       "      <td>62.149488</td>\n",
       "      <td>65.605043</td>\n",
       "      <td>43.698750</td>\n",
       "      <td>102.436873</td>\n",
       "      <td>42.172148</td>\n",
       "      <td>67.034792</td>\n",
       "      <td>56.513071</td>\n",
       "      <td>40.019973</td>\n",
       "    </tr>\n",
       "    <tr>\n",
       "      <th>min</th>\n",
       "      <td>144.197727</td>\n",
       "      <td>364.959280</td>\n",
       "      <td>191.887582</td>\n",
       "      <td>291.095585</td>\n",
       "      <td>189.318103</td>\n",
       "      <td>253.828813</td>\n",
       "      <td>143.502994</td>\n",
       "      <td>181.721654</td>\n",
       "      <td>127.090682</td>\n",
       "      <td>383.150940</td>\n",
       "      <td>569.968001</td>\n",
       "      <td>144.726555</td>\n",
       "      <td>213.331011</td>\n",
       "      <td>185.858950</td>\n",
       "      <td>229.106655</td>\n",
       "      <td>156.111896</td>\n",
       "      <td>136.163700</td>\n",
       "      <td>113.100608</td>\n",
       "      <td>127.940954</td>\n",
       "    </tr>\n",
       "    <tr>\n",
       "      <th>25%</th>\n",
       "      <td>145.860941</td>\n",
       "      <td>471.335486</td>\n",
       "      <td>209.506863</td>\n",
       "      <td>313.119687</td>\n",
       "      <td>218.867107</td>\n",
       "      <td>282.266243</td>\n",
       "      <td>158.355783</td>\n",
       "      <td>205.761522</td>\n",
       "      <td>137.321936</td>\n",
       "      <td>460.363875</td>\n",
       "      <td>579.999129</td>\n",
       "      <td>153.472944</td>\n",
       "      <td>227.454847</td>\n",
       "      <td>195.100985</td>\n",
       "      <td>245.129086</td>\n",
       "      <td>159.571048</td>\n",
       "      <td>158.549686</td>\n",
       "      <td>124.656003</td>\n",
       "      <td>139.533678</td>\n",
       "    </tr>\n",
       "    <tr>\n",
       "      <th>50%</th>\n",
       "      <td>173.447062</td>\n",
       "      <td>535.312184</td>\n",
       "      <td>230.147719</td>\n",
       "      <td>319.297634</td>\n",
       "      <td>232.659130</td>\n",
       "      <td>285.116726</td>\n",
       "      <td>169.778452</td>\n",
       "      <td>217.673616</td>\n",
       "      <td>154.900778</td>\n",
       "      <td>514.826866</td>\n",
       "      <td>610.747845</td>\n",
       "      <td>165.574794</td>\n",
       "      <td>244.430204</td>\n",
       "      <td>198.333053</td>\n",
       "      <td>264.818052</td>\n",
       "      <td>166.273675</td>\n",
       "      <td>180.379885</td>\n",
       "      <td>136.474775</td>\n",
       "      <td>142.934763</td>\n",
       "    </tr>\n",
       "    <tr>\n",
       "      <th>75%</th>\n",
       "      <td>220.887020</td>\n",
       "      <td>704.479893</td>\n",
       "      <td>309.507071</td>\n",
       "      <td>467.778863</td>\n",
       "      <td>329.067460</td>\n",
       "      <td>371.707531</td>\n",
       "      <td>253.613135</td>\n",
       "      <td>289.199065</td>\n",
       "      <td>201.288265</td>\n",
       "      <td>647.223449</td>\n",
       "      <td>816.048976</td>\n",
       "      <td>255.878797</td>\n",
       "      <td>335.431015</td>\n",
       "      <td>270.542867</td>\n",
       "      <td>426.541739</td>\n",
       "      <td>231.732127</td>\n",
       "      <td>274.089121</td>\n",
       "      <td>221.727959</td>\n",
       "      <td>196.693689</td>\n",
       "    </tr>\n",
       "    <tr>\n",
       "      <th>max</th>\n",
       "      <td>238.681540</td>\n",
       "      <td>748.601718</td>\n",
       "      <td>326.118470</td>\n",
       "      <td>576.857273</td>\n",
       "      <td>386.141406</td>\n",
       "      <td>422.101663</td>\n",
       "      <td>271.356846</td>\n",
       "      <td>301.093532</td>\n",
       "      <td>226.406525</td>\n",
       "      <td>741.169102</td>\n",
       "      <td>823.077194</td>\n",
       "      <td>289.695748</td>\n",
       "      <td>368.163352</td>\n",
       "      <td>282.791959</td>\n",
       "      <td>451.027480</td>\n",
       "      <td>249.647967</td>\n",
       "      <td>290.031709</td>\n",
       "      <td>241.161844</td>\n",
       "      <td>229.083843</td>\n",
       "    </tr>\n",
       "  </tbody>\n",
       "</table>\n",
       "</div>"
      ],
      "text/plain": [
       "Unnamed: 0  Agriculture      Mining  Manufacturing      Energy       Water  \\\n",
       "count          7.000000    7.000000       7.000000    7.000000    7.000000   \n",
       "mean         184.260322  571.500563     255.168806  392.721085  271.998253   \n",
       "std           42.214668  148.521152      57.857430  110.738753   75.377860   \n",
       "min          144.197727  364.959280     191.887582  291.095585  189.318103   \n",
       "25%          145.860941  471.335486     209.506863  313.119687  218.867107   \n",
       "50%          173.447062  535.312184     230.147719  319.297634  232.659130   \n",
       "75%          220.887020  704.479893     309.507071  467.778863  329.067460   \n",
       "max          238.681540  748.601718     326.118470  576.857273  386.141406   \n",
       "\n",
       "Unnamed: 0  Construction       Trade  Transportation  Hospitality  \\\n",
       "count           7.000000    7.000000        7.000000     7.000000   \n",
       "mean          324.142107  201.225161      241.487139   169.374055   \n",
       "std            63.380565   55.885414       49.976070    39.860703   \n",
       "min           253.828813  143.502994      181.721654   127.090682   \n",
       "25%           282.266243  158.355783      205.761522   137.321936   \n",
       "50%           285.116726  169.778452      217.673616   154.900778   \n",
       "75%           371.707531  253.613135      289.199065   201.288265   \n",
       "max           422.101663  271.356846      301.093532   226.406525   \n",
       "\n",
       "Unnamed: 0  Telecommunications  Financial se  Real estate  \\\n",
       "count                 7.000000      7.000000     7.000000   \n",
       "mean                550.617365    685.127036   202.671511   \n",
       "std                 131.348230    125.399996    62.149488   \n",
       "min                 383.150940    569.968001   144.726555   \n",
       "25%                 460.363875    579.999129   153.472944   \n",
       "50%                 514.826866    610.747845   165.574794   \n",
       "75%                 647.223449    816.048976   255.878797   \n",
       "max                 741.169102    823.077194   289.695748   \n",
       "\n",
       "Unnamed: 0  Technology and Science  Administration  Government, army  \\\n",
       "count                     7.000000        7.000000          7.000000   \n",
       "mean                    278.813756      228.324524        326.899120   \n",
       "std                      65.605043       43.698750        102.436873   \n",
       "min                     213.331011      185.858950        229.106655   \n",
       "25%                     227.454847      195.100985        245.129086   \n",
       "50%                     244.430204      198.333053        264.818052   \n",
       "75%                     335.431015      270.542867        426.541739   \n",
       "max                     368.163352      282.791959        451.027480   \n",
       "\n",
       "Unnamed: 0   Education  Healthcare  Entertainment     Service  \n",
       "count         7.000000    7.000000       7.000000    7.000000  \n",
       "mean        193.519984  210.264701     169.072164  167.487756  \n",
       "std          42.172148   67.034792      56.513071   40.019973  \n",
       "min         156.111896  136.163700     113.100608  127.940954  \n",
       "25%         159.571048  158.549686     124.656003  139.533678  \n",
       "50%         166.273675  180.379885     136.474775  142.934763  \n",
       "75%         231.732127  274.089121     221.727959  196.693689  \n",
       "max         249.647967  290.031709     241.161844  229.083843  "
      ]
     },
     "execution_count": 24,
     "metadata": {},
     "output_type": "execute_result"
    }
   ],
   "source": [
    "transpose=industries.transpose()\n",
    "transpose.describe()"
   ]
  },
  {
   "cell_type": "markdown",
   "metadata": {},
   "source": [
    "## Visualizing the data"
   ]
  },
  {
   "cell_type": "code",
   "execution_count": 15,
   "metadata": {},
   "outputs": [],
   "source": [
    "%matplotlib inline\n",
    "import matplotlib as mpl\n",
    "import matplotlib.pyplot as plt"
   ]
  },
  {
   "cell_type": "code",
   "execution_count": 16,
   "metadata": {},
   "outputs": [
    {
     "data": {
      "text/plain": [
       "<matplotlib.axes._subplots.AxesSubplot at 0x22b5ca6bb70>"
      ]
     },
     "execution_count": 16,
     "metadata": {},
     "output_type": "execute_result"
    },
    {
     "data": {
      "image/png": "[encoded data removed]",
      "text/plain": [
       "<Figure size 648x864 with 1 Axes>"
      ]
     },
     "metadata": {},
     "output_type": "display_data"
    }
   ],
   "source": [
    "industries.boxplot(figsize=(9,12))"
   ]
  },
  {
   "cell_type": "markdown",
   "metadata": {},
   "source": [
    "Here we can see that the mean salary overall is increasing when taken together over these years."
   ]
  },
  {
   "cell_type": "code",
   "execution_count": 36,
   "metadata": {},
   "outputs": [],
   "source": [
    "means=transpose.mean()\n",
    "vc=means.values\n",
    "means=pd.Series.sort_values(means)\n",
    "indices=means.index"
   ]
  },
  {
   "cell_type": "code",
   "execution_count": 70,
   "metadata": {},
   "outputs": [],
   "source": [
    "industries=industries.set_index(vc)\n",
    "industries_sorted=industries.sort_index(ascending=True)\n",
    "#sorting the table for further analysis"
   ]
  },
  {
   "cell_type": "code",
   "execution_count": 64,
   "metadata": {},
   "outputs": [],
   "source": [
    "industries_sorted=industries_sorted.set_index(indices)"
   ]
  },
  {
   "cell_type": "code",
   "execution_count": 74,
   "metadata": {
    "scrolled": true
   },
   "outputs": [
    {
     "data": {
      "text/plain": [
       "(array([ 1,  2,  3,  4,  5,  6,  7,  8,  9, 10, 11, 12, 13, 14, 15, 16, 17,\n",
       "        18, 19]), <a list of 19 Text xticklabel objects>)"
      ]
     },
     "execution_count": 74,
     "metadata": {},
     "output_type": "execute_result"
    },
    {
     "data": {
      "image/png": "[encoded data removed]",
      "text/plain": [
       "<Figure size 648x432 with 1 Axes>"
      ]
     },
     "metadata": {},
     "output_type": "display_data"
    }
   ],
   "source": [
    "# Create a figure instance\n",
    "fig = plt.figure(figsize=(9, 6))\n",
    "\n",
    "# Create an axes instance\n",
    "ax = fig.add_subplot(1, 1, 1)\n",
    "\n",
    "\n",
    "# Create the boxplotindex\n",
    "bp = ax.boxplot(industries_sorted, labels= indices)\n",
    "\n",
    "plt.xticks(rotation=90)"
   ]
  },
  {
   "cell_type": "markdown",
   "metadata": {},
   "source": [
    "This plot shows how the mean salaries differ depending on the sector, but it does not show if the difference has increased over these years or not."
   ]
  },
  {
   "cell_type": "code",
   "execution_count": 75,
   "metadata": {},
   "outputs": [
    {
     "data": {
      "text/plain": [
       "167.487756     40.019973\n",
       "169.072164     56.513071\n",
       "169.374055     39.860703\n",
       "184.260322     42.214668\n",
       "193.519984     42.172148\n",
       "201.225161     55.885414\n",
       "202.671511     62.149488\n",
       "210.264701     67.034792\n",
       "228.324524     43.698750\n",
       "241.487139     49.976070\n",
       "255.168806     57.857430\n",
       "271.998253     75.377860\n",
       "278.813756     65.605043\n",
       "324.142107     63.380565\n",
       "326.899120    102.436873\n",
       "392.721085    110.738753\n",
       "550.617365    131.348230\n",
       "571.500563    148.521152\n",
       "685.127036    125.399996\n",
       "dtype: float64"
      ]
     },
     "execution_count": 75,
     "metadata": {},
     "output_type": "execute_result"
    }
   ],
   "source": [
    "transpose=industries_sorted.transpose()\n",
    "sd=transpose.std()"
   ]
  },
  {
   "cell_type": "code",
   "execution_count": 69,
   "metadata": {},
   "outputs": [
    {
     "data": {
      "image/png": "[encoded data removed]",
      "text/plain": [
       "<Figure size 432x288 with 1 Axes>"
      ]
     },
     "metadata": {},
     "output_type": "display_data"
    }
   ],
   "source": [
    "\n",
    "sector = sd.index\n",
    "# get the values \n",
    "var = sd.values\n",
    "\n",
    "# create\n",
    "plt.bar(sector, var, label=sector)\n",
    "plt.xticks(rotation=90)\n",
    "plt.show()"
   ]
  },
  {
   "cell_type": "markdown",
   "metadata": {},
   "source": [
    "The standard deviation of sectors gives us an idea how much there was an increase over these years in different sectors. The higher the standard deviation the higher is the increase."
   ]
  },
  {
   "cell_type": "code",
   "execution_count": 46,
   "metadata": {},
   "outputs": [
    {
     "data": {
      "image/png": "[encoded data removed]",
      "text/plain": [
       "<Figure size 432x288 with 1 Axes>"
      ]
     },
     "metadata": {},
     "output_type": "display_data"
    }
   ],
   "source": [
    "sd2=industries.std()\n",
    "sd2\n",
    "\n",
    "# get the years\n",
    "years = sd2.index.values\n",
    "years\n",
    "# get the values \n",
    "variety= sd2.values\n",
    "\n",
    "# create\n",
    "plt.bar(years,variety)\n",
    "plt.show()\n"
   ]
  },
  {
   "cell_type": "markdown",
   "metadata": {},
   "source": [
    "The standard deviation of years shows the variability among different sectors in different years. The higher the standard deviation, the more is the difference among sectors and the more is the inequality. "
   ]
  },
  {
   "cell_type": "markdown",
   "metadata": {},
   "source": [
    "#### As a conclusion, there has clearly been an increase in salaries overall, but it is not equal in all sectors and the wage gap is increasing."
   ]
  },
  {
   "cell_type": "code",
   "execution_count": null,
   "metadata": {},
   "outputs": [],
   "source": []
  }
 ],
 "metadata": {
  "kernelspec": {
   "display_name": "Python 3",
   "language": "python",
   "name": "python3"
  },
  "language_info": {
   "codemirror_mode": {
    "name": "ipython",
    "version": 3
   },
   "file_extension": ".py",
   "mimetype": "text/x-python",
   "name": "python",
   "nbconvert_exporter": "python",
   "pygments_lexer": "ipython3",
   "version": "3.6.5"
  }
 },
 "nbformat": 4,
 "nbformat_minor": 2
}
